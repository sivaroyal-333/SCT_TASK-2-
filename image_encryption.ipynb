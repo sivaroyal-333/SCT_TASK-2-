{
 "cells": [
  {
   "cell_type": "code",
   "execution_count": 1,
   "id": "0c0e5c00-c4a5-4a98-a901-1c9617ac4e68",
   "metadata": {},
   "outputs": [
    {
     "name": "stdout",
     "output_type": "stream",
     "text": [
      "Requirement already satisfied: pillow in c:\\users\\sidda\\anaconda3\\lib\\site-packages (11.1.0)\n",
      "Requirement already satisfied: numpy in c:\\users\\sidda\\anaconda3\\lib\\site-packages (2.1.3)\n"
     ]
    }
   ],
   "source": [
    "# Install necessary libraries if not already installed\n",
    "!pip install pillow numpy"
   ]
  },
  {
   "cell_type": "code",
   "execution_count": 2,
   "id": "a8ab2acd-1384-47dd-9000-1c2e10c51eeb",
   "metadata": {},
   "outputs": [],
   "source": [
    "from PIL import Image\n",
    "import numpy as np\n",
    "import os\n"
   ]
  },
  {
   "cell_type": "code",
   "execution_count": 3,
   "id": "e3e138ca-cc34-4294-a3a0-bb46a725b024",
   "metadata": {},
   "outputs": [],
   "source": [
    "def encrypt_image(input_path, output_path, key):\n",
    "    \"\"\"\n",
    "    Encrypts an image by adding a key to each pixel value.\n",
    "    Saves the encrypted image to output_path.\n",
    "    \"\"\"\n",
    "    try:\n",
    "        image = Image.open(input_path)\n",
    "        image_array = np.array(image)\n",
    "        encrypted_array = (image_array + key) % 256\n",
    "        encrypted_image = Image.fromarray(encrypted_array.astype('uint8'))\n",
    "        encrypted_image.save(output_path)\n",
    "        print(f\"[✅] Image encrypted and saved as {output_path}\")\n",
    "    except Exception as e:\n",
    "        print(f\"[❌] Encryption failed: {e}\")\n"
   ]
  },
  {
   "cell_type": "code",
   "execution_count": 4,
   "id": "6b808a12-be3f-4d6b-b1a1-9932220644f9",
   "metadata": {},
   "outputs": [],
   "source": [
    "def decrypt_image(input_path, output_path, key):\n",
    "    \"\"\"\n",
    "    Decrypts an image by subtracting a key from each pixel value.\n",
    "    Saves the decrypted image to output_path.\n",
    "    \"\"\"\n",
    "    try:\n",
    "        image = Image.open(input_path)\n",
    "        image_array = np.array(image)\n",
    "        decrypted_array = (image_array - key) % 256\n",
    "        decrypted_image = Image.fromarray(decrypted_array.astype('uint8'))\n",
    "        decrypted_image.save(output_path)\n",
    "        print(f\"[✅] Image decrypted and saved as {output_path}\")\n",
    "    except Exception as e:\n",
    "        print(f\"[❌] Decryption failed: {e}\")\n"
   ]
  },
  {
   "cell_type": "code",
   "execution_count": 6,
   "id": "b4f92848-57c9-4ec3-9780-373937632a36",
   "metadata": {},
   "outputs": [
    {
     "name": "stdout",
     "output_type": "stream",
     "text": [
      "=== Image Encryption-Decryption Tool ===\n"
     ]
    },
    {
     "name": "stdin",
     "output_type": "stream",
     "text": [
      "Enter 'E' to Encrypt or 'D' to Decrypt:  e\n",
      "Enter input image filename (with extension):  C:\\Users\\sidda\\OneDrive\\Hình ảnh\n",
      "Enter output image filename (with extension):  C:\\Users\\sidda\\OneDrive\\Hình ảnh\n",
      "Enter encryption/decryption key (integer between 1-255):  45\n"
     ]
    },
    {
     "name": "stdout",
     "output_type": "stream",
     "text": [
      "[❌] Encryption failed: [Errno 13] Permission denied: 'C:\\\\Users\\\\sidda\\\\OneDrive\\\\Hình ảnh'\n"
     ]
    }
   ],
   "source": [
    "def main():\n",
    "    print(\"=== Image Encryption-Decryption Tool ===\")\n",
    "    choice = input(\"Enter 'E' to Encrypt or 'D' to Decrypt: \").upper()\n",
    "    input_path = input(\"Enter input image filename (with extension): \")\n",
    "\n",
    "    if not os.path.exists(input_path):\n",
    "        print(\"[❌] Input file does not exist.\")\n",
    "        return\n",
    "\n",
    "    output_path = input(\"Enter output image filename (with extension): \")\n",
    "    try:\n",
    "        key = int(input(\"Enter encryption/decryption key (integer between 1-255): \"))\n",
    "        if key < 1 or key > 255:\n",
    "            raise ValueError(\"Key must be between 1 and 255.\")\n",
    "    except ValueError as ve:\n",
    "        print(f\"[❌] Invalid key: {ve}\")\n",
    "        return\n",
    "\n",
    "    if choice == 'E':\n",
    "        encrypt_image(input_path, output_path, key)\n",
    "    elif choice == 'D':\n",
    "        decrypt_image(input_path, output_path, key)\n",
    "    else:\n",
    "        print(\"[❌] Invalid choice. Please enter E or D.\")\n",
    "\n",
    "# Run main function in notebook\n",
    "main()\n"
   ]
  },
  {
   "cell_type": "code",
   "execution_count": null,
   "id": "c75d9377-b948-4c54-9605-4c340d76133e",
   "metadata": {},
   "outputs": [],
   "source": []
  }
 ],
 "metadata": {
  "kernelspec": {
   "display_name": "Python [conda env:base] *",
   "language": "python",
   "name": "conda-base-py"
  },
  "language_info": {
   "codemirror_mode": {
    "name": "ipython",
    "version": 3
   },
   "file_extension": ".py",
   "mimetype": "text/x-python",
   "name": "python",
   "nbconvert_exporter": "python",
   "pygments_lexer": "ipython3",
   "version": "3.13.5"
  }
 },
 "nbformat": 4,
 "nbformat_minor": 5
}
